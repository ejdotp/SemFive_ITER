{
 "cells": [
  {
   "cell_type": "code",
   "execution_count": 1,
   "id": "86bec110",
   "metadata": {},
   "outputs": [
    {
     "data": {
      "text/plain": [
       "'\\nSteps:-\\n1: Type on google \"Numpy Documentation\"\\n2: Click on lates version\\n3: Click on API Reference\\n\\nNumpy & Panda is used for input/processing type operations\\nMatplotlib us used for output\\nfor processing - Sklearn, tensorflow, pytouch\\n'"
      ]
     },
     "execution_count": 1,
     "metadata": {},
     "output_type": "execute_result"
    }
   ],
   "source": [
    "'''\n",
    "Steps:-\n",
    "1: Type on google \"Numpy Documentation\"\n",
    "2: Click on lates version\n",
    "3: Click on API Reference\n",
    "\n",
    "Numpy & Panda is used for input/processing type operations\n",
    "Matplotlib us used for output\n",
    "for processing - Sklearn, tensorflow, pytouch\n",
    "'''"
   ]
  },
  {
   "cell_type": "code",
   "execution_count": 2,
   "id": "2ae4717a",
   "metadata": {},
   "outputs": [
    {
     "name": "stdout",
     "output_type": "stream",
     "text": [
      "<class 'numpy.ndarray'>\n",
      "1\n",
      "(6,)\n",
      "[ 1  2  3  5  7 10]\n"
     ]
    }
   ],
   "source": [
    "import numpy as np\n",
    "\n",
    "numbers = np.array([1, 2, 3, 5, 7, 10])\n",
    "print(type(numbers))\n",
    "print(numbers.ndim)     #dimension of array\n",
    "print(numbers.shape)    #no. of rows and columns\n",
    "print(numbers)"
   ]
  },
  {
   "cell_type": "code",
   "execution_count": 3,
   "id": "577b523c",
   "metadata": {},
   "outputs": [
    {
     "name": "stdout",
     "output_type": "stream",
     "text": [
      "<class 'numpy.ndarray'>\n",
      "This is a 2D Array.\n",
      "(2, 3)\n",
      "[[ 1  2  3]\n",
      " [ 5  7 10]]\n"
     ]
    }
   ],
   "source": [
    "num = np.array([[1, 2, 3], [5, 7, 10]])\n",
    "print(type(num))\n",
    "print(f\"This is a {num.ndim}D Array.\")     #dimension of array\n",
    "print(num.shape)                           #no. of rows and columns\n",
    "print(num)"
   ]
  },
  {
   "cell_type": "code",
   "execution_count": 4,
   "id": "2c2f11ce",
   "metadata": {},
   "outputs": [
    {
     "name": "stdout",
     "output_type": "stream",
     "text": [
      "71\n",
      "91\n",
      "83.22222222222223\n",
      "\n",
      "[78 82 71]\n",
      "[91 89 87]\n",
      "[83.33333333 85.33333333 81.        ]\n",
      "\n",
      "[78 81 71]\n",
      "[85 87 91]\n",
      "[81.66666667 84.33333333 83.66666667]\n"
     ]
    }
   ],
   "source": [
    "grades = np.array([[78, 82, 85], [81, 85, 87], [91, 89, 71]]) #one row is 1 student having marks of 3 subjects\n",
    "\n",
    "print(grades.min())     #lowest marks in school\n",
    "print(grades.max())     #highest in school\n",
    "print(grades.mean())    #school avergae\n",
    "print()\n",
    "print(grades.min(axis = 0))     #min for each subject\n",
    "print(grades.max(axis = 0))     #max for each subject\n",
    "print(grades.mean(axis = 0))    #average for each subject\n",
    "print()\n",
    "print(grades.min(axis = 1))     #min for each student\n",
    "print(grades.max(axis = 1))     #max for each student\n",
    "print(grades.mean(axis = 1))    #average for each student"
   ]
  },
  {
   "cell_type": "code",
   "execution_count": 17,
   "id": "5320f76c",
   "metadata": {},
   "outputs": [
    {
     "name": "stdout",
     "output_type": "stream",
     "text": [
      "Before array:  [78 82 85 73 81 85 87 91 92 91 89 71]\n",
      "Shape of array:  (12,) \n",
      "\n",
      "After array:  [[[78 82]\n",
      "  [85 73]\n",
      "  [81 85]]\n",
      "\n",
      " [[87 91]\n",
      "  [92 91]\n",
      "  [89 71]]]\n",
      "Shape of array:  (2, 3, 2)\n"
     ]
    }
   ],
   "source": [
    "grade = np.array([78, 82, 85, 73, 81, 85, 87, 91, 92, 91, 89, 71]) \n",
    "print(\"Before array: \", grade)\n",
    "print(\"Shape of array: \", grade.shape, \"\\n\")\n",
    "grade = grade.reshape(2, 3, 2)\n",
    "print(\"After array: \", grade)\n",
    "print(\"Shape of array: \", grade.shape)"
   ]
  },
  {
   "cell_type": "code",
   "execution_count": null,
   "id": "fe22b42a",
   "metadata": {},
   "outputs": [],
   "source": [
    "'''\n",
    "Numpy Array Attributes:- \n",
    "\n",
    "ndarray.flags    : Information about the memory layout of the array.\n",
    "ndarray.shape    : Tuple of array dimensions.\n",
    "ndarray.strides  : Tuple of bytes to step in each dimension when traversing an array.\n",
    "ndarray.ndim     : Number of array dimensions.\n",
    "ndarray.data     : Python buffer object pointing to the start of the array's data.\n",
    "ndarray.size     : Number of elements in the array.\n",
    "ndarray.itemsize : Length of one array element in bytes.\n",
    "ndarray.nbytes   : Total bytes consumed by the elements of the array.\n",
    "ndarray.base     : Base object if memory is from some other object.\n",
    "ndarray.dtype    : Data-type of the array's elements.\n",
    "ndarray.T        : View of the transposed array.\n",
    "ndarray.real     : The real part of the array.\n",
    "ndarray.imag     : The imaginary part of the array.\n",
    "ndarray.flat     : A 1-D iterator over the array.'''"
   ]
  },
  {
   "cell_type": "code",
   "execution_count": 20,
   "id": "f09baac0",
   "metadata": {},
   "outputs": [
    {
     "name": "stdout",
     "output_type": "stream",
     "text": [
      "ndarray.flags      :   C_CONTIGUOUS : True\n",
      "  F_CONTIGUOUS : False\n",
      "  OWNDATA : True\n",
      "  WRITEABLE : True\n",
      "  ALIGNED : True\n",
      "  WRITEBACKIFCOPY : False\n",
      "\n",
      "ndarray.shape      : (2, 3)\n",
      "ndarray.strides    : (24, 8)\n",
      "ndarray.ndim       : 2\n",
      "ndarray.data       : <memory at 0x77970c194ba0>\n",
      "ndarray.size       : 6\n",
      "ndarray.itemsize   : 8\n",
      "ndarray.nbytes     : 48\n",
      "ndarray.base       : None\n",
      "ndarray.dtype      : int64\n",
      "ndarray.T          : [[1 4]\n",
      " [2 5]\n",
      " [3 6]]\n",
      "ndarray.real       : [[1 2 3]\n",
      " [4 5 6]]\n",
      "ndarray.imag       : [[0 0 0]\n",
      " [0 0 0]]\n",
      "ndarray.flat       : <numpy.flatiter object at 0x205ba40>\n"
     ]
    }
   ],
   "source": [
    "arr = np.array([[1, 2, 3], [4, 5, 6]])\n",
    "\n",
    "print(\"ndarray.flags      :\", arr.flags)\n",
    "print(\"ndarray.shape      :\", arr.shape)\n",
    "print(\"ndarray.strides    :\", arr.strides)\n",
    "print(\"ndarray.ndim       :\", arr.ndim)\n",
    "print(\"ndarray.data       :\", arr.data)\n",
    "print(\"ndarray.size       :\", arr.size)\n",
    "print(\"ndarray.itemsize   :\", arr.itemsize)\n",
    "print(\"ndarray.nbytes     :\", arr.nbytes)\n",
    "print(\"ndarray.base       :\", arr.base)\n",
    "print(\"ndarray.dtype      :\", arr.dtype)\n",
    "print(\"ndarray.T          :\", arr.T)\n",
    "print(\"ndarray.real       :\", arr.real)\n",
    "print(\"ndarray.imag       :\", arr.imag)\n",
    "print(\"ndarray.flat       :\", arr.flat)"
   ]
  },
  {
   "cell_type": "code",
   "execution_count": 25,
   "id": "e75e64f9",
   "metadata": {},
   "outputs": [
    {
     "name": "stdout",
     "output_type": "stream",
     "text": [
      "[0. 0. 0. 0. 0.] \n",
      "\n",
      "[[1. 1.]\n",
      " [1. 1.]\n",
      " [1. 1.]\n",
      " [1. 1.]\n",
      " [1. 1.]] \n",
      "\n",
      "[[12 12]\n",
      " [12 12]\n",
      " [12 12]] \n",
      "\n",
      "[0 1 2 3 4] \n",
      "\n",
      "[ 2.  6. 10.] \n",
      "\n"
     ]
    }
   ],
   "source": [
    "a = np.zeros(5)\n",
    "print(a, \"\\n\")\n",
    "# np.zeros(5) creates an array of 5 elements, all initialized to 0.\n",
    "# The argument (5) specifies the size of the array.\n",
    "\n",
    "b = np.ones((5, 2))\n",
    "print(b, \"\\n\")\n",
    "# np.ones((5, 2)) creates a 5x2 array filled with ones.\n",
    "# The argument (5, 2) specifies the shape of the array (5 rows, 2 columns).\n",
    "\n",
    "c = np.full((3, 2), 12)\n",
    "print(c, \"\\n\")\n",
    "# np.full((3, 2), 12) creates a 3x2 array where each element is initialized to the value 12.\n",
    "# The first argument (3, 2) specifies the shape of the array.\n",
    "# The second argument (12) is the value that fills the array.\n",
    "\n",
    "d = np.arange(5)\n",
    "print(d, \"\\n\")\n",
    "# np.arange(5) creates an array of evenly spaced values, starting from 0 up to (but not including) 5.\n",
    "# The argument (5) specifies the endpoint (exclusive), and by default, the step size is 1.\n",
    "\n",
    "e = np.linspace(2, 10 ,3) #(start, end, step)\n",
    "print(e, \"\\n\")\n",
    "# np.linspace(2, 10, 3) creates an array of 3 evenly spaced values between 2 and 10 (inclusive).\n",
    "# The first argument (2) specifies the starting point.\n",
    "# The second argument (10) specifies the endpoint (inclusive).\n",
    "# The third argument (3) specifies the number of values to generate,\n",
    "#                                      which are evenly spaced between the start and end points."
   ]
  },
  {
   "cell_type": "code",
   "execution_count": null,
   "id": "032b3f19",
   "metadata": {},
   "outputs": [],
   "source": []
  }
 ],
 "metadata": {
  "kernelspec": {
   "display_name": "Python 3 (ipykernel)",
   "language": "python",
   "name": "python3"
  },
  "language_info": {
   "codemirror_mode": {
    "name": "ipython",
    "version": 3
   },
   "file_extension": ".py",
   "mimetype": "text/x-python",
   "name": "python",
   "nbconvert_exporter": "python",
   "pygments_lexer": "ipython3",
   "version": "3.11.4"
  }
 },
 "nbformat": 4,
 "nbformat_minor": 5
}
